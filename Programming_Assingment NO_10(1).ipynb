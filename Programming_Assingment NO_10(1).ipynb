{
 "cells": [
  {
   "cell_type": "code",
   "execution_count": null,
   "id": "14375503",
   "metadata": {},
   "outputs": [],
   "source": [
    "Programming_Assingment NO_10"
   ]
  },
  {
   "cell_type": "code",
   "execution_count": 1,
   "id": "e6c84137",
   "metadata": {},
   "outputs": [
    {
     "name": "stdout",
     "output_type": "stream",
     "text": [
      "Enter the No of Entries in a List:8\n",
      "Enter a element:6\n",
      "Enter a element:4\n",
      "Enter a element:2\n",
      "Enter a element:1\n",
      "Enter a element:0\n",
      "Enter a element:7\n",
      "Enter a element:90\n",
      "Enter a element:8\n",
      "Sum of Elements:118\n"
     ]
    }
   ],
   "source": [
    "Q1.Write a Python Program to find sum of elements in a list ?\n",
    "Answer:-\n",
    "def sumofList():\n",
    "    in_ele = int(input('Enter the No of Entries in a List:'))\n",
    "    in_list = []\n",
    "    for itr in range (in_ele):\n",
    "        in_list.append(int(input('Enter a element:')))\n",
    "    print(f'Sum of Elements:{sum(in_list)}')\n",
    "    \n",
    "sumofList()"
   ]
  },
  {
   "cell_type": "code",
   "execution_count": 8,
   "id": "44ea8877",
   "metadata": {},
   "outputs": [
    {
     "name": "stdout",
     "output_type": "stream",
     "text": [
      "Enter the No of Entries in a List:3\n",
      "Enter a Element:4\n",
      "Enter a Element:5\n",
      "Enter a Element:56\n",
      "1120\n"
     ]
    }
   ],
   "source": [
    "Q.2.Write a Python Program to multiply all numbers in the list ?\n",
    "Answer:-\n",
    "def mulofList():\n",
    "    in_ele = int(input('Enter the No of Entries in a List:'))\n",
    "    in_list = []\n",
    "    mul = 1\n",
    "    for itr in range(in_ele):\n",
    "        in_list.append(int(input('Enter a Element:')))\n",
    "    for ele in in_list:\n",
    "        mul = mul * ele\n",
    "    print(mul)\n",
    "\n",
    "mulofList()"
   ]
  },
  {
   "cell_type": "code",
   "execution_count": 1,
   "id": "01044cac",
   "metadata": {},
   "outputs": [
    {
     "name": "stdout",
     "output_type": "stream",
     "text": [
      "Enter the No of element in a list:6\n",
      "Enter a Element:34\n",
      "Enter a Element:34\n",
      "Enter a Element:65\n",
      "Enter a Element:234\n",
      "Enter a Element:654\n",
      "Enter a Element:32\n",
      "The Smallest Element in [34, 34, 65, 234, 654, 32] is 32\n"
     ]
    }
   ],
   "source": [
    "Q3.Write a Python Program to find smallest number in the list ?\n",
    "Answer:-\n",
    "def smallEleInList():\n",
    "    in_ele = int(input('Enter the No of element in a list:'))\n",
    "    in_list = []\n",
    "    for ele in range(in_ele):\n",
    "        in_list.append(int(input('Enter a Element:')))\n",
    "    print(f'The Smallest Element in {in_list} is {sorted(in_list)[0]}')\n",
    "    \n",
    "smallEleInList()"
   ]
  },
  {
   "cell_type": "code",
   "execution_count": 6,
   "id": "fa1caece",
   "metadata": {},
   "outputs": [
    {
     "name": "stdout",
     "output_type": "stream",
     "text": [
      "Enter the No of elements in a list: 5\n",
      "Enter a Element: 3\n",
      "Enter a Element: 23\n",
      "Enter a Element: 86\n",
      "Enter a Element: 456\n",
      "Enter a Element: 456\n",
      "The Largest Element in [3, 23, 86, 456, 456] is 456\n"
     ]
    }
   ],
   "source": [
    "4.Write a Python Program to find largest number in the list ?\n",
    "Answer:-\n",
    "def largestEleInList():\n",
    "    in_ele = int(input('Enter the No of elements in a list: '))\n",
    "    in_list = []\n",
    "    for ele in range(in_ele):\n",
    "        in_list.append(int(input('Enter a Element: ')))\n",
    "    print(f'The Largest Element in {in_list} is {sorted(in_list, reverse=True)[0]}')\n",
    "\n",
    "largestEleInList()"
   ]
  },
  {
   "cell_type": "code",
   "execution_count": 7,
   "id": "28620c70",
   "metadata": {},
   "outputs": [
    {
     "name": "stdout",
     "output_type": "stream",
     "text": [
      "Enter the No of elements in a list: 5\n",
      "Enter a Element: 3\n",
      "Enter a Element: 34\n",
      "Enter a Element: 54\n",
      "Enter a Element: 65\n",
      "Enter a Element: 12\n",
      "The 4 Largest Element in [3, 34, 54, 65, 12] is [65, 54, 34, 12]\n"
     ]
    }
   ],
   "source": [
    "Q6.Write a Python Program to find N largest elements in the list ?\n",
    "Answer:-\n",
    "def nLargestEleInList(k):\n",
    "    in_ele = int(input('Enter the No of elements in a list: '))\n",
    "    in_list = []\n",
    "    for ele in range(in_ele):\n",
    "        in_list.append(int(input('Enter a Element: ')))\n",
    "    print(f'The {k} Largest Element in {in_list} is {sorted(in_list, reverse=True)[0:k]}')\n",
    "\n",
    "nLargestEleInList(4)"
   ]
  },
  {
   "cell_type": "markdown",
   "id": "e411befa",
   "metadata": {},
   "source": [
    "def secondLargestEleInList():\n",
    "    in_ele = int(input('Enter the No of elements in a list: '))\n",
    "    in_list = []\n",
    "    for ele in range(in_ele):\n",
    "        in_list.append(int(input('Enter a Element: ')))\n",
    "    print(f'The Second Largest Element in {in_list} is {sorted(in_list, reverse=True)[1]}')\n",
    "\n",
    "secondLargestEleInList()\n"
   ]
  },
  {
   "cell_type": "code",
   "execution_count": 1,
   "id": "e95f6eb7",
   "metadata": {},
   "outputs": [
    {
     "name": "stdout",
     "output_type": "stream",
     "text": [
      "Enter the No of elements in a list: 4\n",
      "Enter a Element: 65\n",
      "Enter a Element: 3\n",
      "Enter a Element: 34\n",
      "Enter a Element: 43\n",
      "The Second Largest Element in [65, 3, 34, 43] is 43\n"
     ]
    }
   ],
   "source": [
    "5.Write a Python Program to find second largest number in the list ?\n",
    "Answer:-\n",
    "def secondLargestEleInList():\n",
    "    in_ele = int(input('Enter the No of elements in a list: '))\n",
    "    in_list = []\n",
    "    for ele in range(in_ele):\n",
    "        in_list.append(int(input('Enter a Element: ')))\n",
    "    print(f'The Second Largest Element in {in_list} is {sorted(in_list, reverse=True)[1]}')\n",
    "\n",
    "secondLargestEleInList()"
   ]
  },
  {
   "cell_type": "markdown",
   "id": "6029d157",
   "metadata": {},
   "source": []
  },
  {
   "cell_type": "code",
   "execution_count": 3,
   "id": "b04c6f37",
   "metadata": {},
   "outputs": [
    {
     "name": "stdout",
     "output_type": "stream",
     "text": [
      "Enter the No of elements in a list: 3\n",
      "Enter a Element: 65\n",
      "Enter a Element: 876\n",
      "Enter a Element: 556\n",
      "The Even Elements in [65, 876, 556] are [876, 556]\n"
     ]
    }
   ],
   "source": [
    "Q7.Write a Python Program to find even numbers in the list ?\n",
    "Answer:-\n",
    "def evenNoInList():\n",
    "    in_ele = int(input('Enter the No of elements in a list: '))\n",
    "    in_list = []\n",
    "    even_list = []\n",
    "    for ele in range(in_ele):\n",
    "        in_list.append(int(input('Enter a Element: ')))\n",
    "    for ele in in_list:\n",
    "        if ele%2 == 0:\n",
    "            even_list.append(ele)\n",
    "    print(f'The Even Elements in {in_list} are {even_list}')\n",
    "\n",
    "evenNoInList()"
   ]
  },
  {
   "cell_type": "markdown",
   "id": "f43467b0",
   "metadata": {},
   "source": []
  },
  {
   "cell_type": "code",
   "execution_count": 4,
   "id": "2015e3a4",
   "metadata": {},
   "outputs": [
    {
     "name": "stdout",
     "output_type": "stream",
     "text": [
      "Enter the No of elements in a list: 7\n",
      "Enter a Element: 54\n",
      "Enter a Element: 54\n",
      "Enter a Element: 76\n",
      "Enter a Element: 77\n",
      "Enter a Element: 99\n",
      "Enter a Element: 765\n",
      "Enter a Element: 45\n",
      "The Even Elements in [54, 54, 76, 77, 99, 765, 45] are [77, 99, 765, 45]\n"
     ]
    }
   ],
   "source": [
    "8.Write a Python Program to find odd numbers in the list ?\n",
    "def oddNoInList():\n",
    "    in_ele = int(input('Enter the No of elements in a list: '))\n",
    "    in_list = []\n",
    "    odd_list = []\n",
    "    for ele in range(in_ele):\n",
    "        in_list.append(int(input('Enter a Element: ')))\n",
    "    for ele in in_list:\n",
    "        if ele%2 != 0:\n",
    "            odd_list.append(ele)\n",
    "    print(f'The Even Elements in {in_list} are {odd_list}')\n",
    "\n",
    "oddNoInList()\n"
   ]
  },
  {
   "cell_type": "code",
   "execution_count": 3,
   "id": "5c92dd64",
   "metadata": {},
   "outputs": [
    {
     "name": "stdout",
     "output_type": "stream",
     "text": [
      "Enter all elements of the list: [1,2,3,4,5,6,7,8,9,0]\n",
      "There is no [] List in the list [1, 2, 3, 4, 5, 6, 7, 8, 9, 0]\n"
     ]
    }
   ],
   "source": [
    "#Q9.Write a Python Program to remove empty list from list \n",
    "#Answer:-\n",
    "def checkEmptyList():\n",
    "    in_list = eval(input('Enter all elements of the list: '))\n",
    "    if [] in in_list:\n",
    "        print(f'There is an Empty list in {in_list} at Position {in_list.index([])}')\n",
    "        in_list.remove([])\n",
    "        print(f'The List after removing [] is {in_list}')\n",
    "    else:\n",
    "        print(f'There is no [] List in the list {in_list}')\n",
    "        \n",
    "checkEmptyList()"
   ]
  },
  {
   "cell_type": "code",
   "execution_count": 1,
   "id": "f3153378",
   "metadata": {},
   "outputs": [
    {
     "name": "stdout",
     "output_type": "stream",
     "text": [
      "Enter a list[1,2,3,4,5,6,7,8,9,0]\n",
      "[1, 2, 3, 4, 5, 6, 7, 8, 9, 0] 2490375413376\n",
      "[1, 2, 3, 4, 5, 6, 7, 8, 9, 0] 2490375414208\n"
     ]
    }
   ],
   "source": [
    "10.Write a Python Program to Cloning or Copying a list ?\n",
    "Answer:-\n",
    "import copy\n",
    "\n",
    "def cloneList():\n",
    "    in_list = eval(input('Enter a list'))\n",
    "    print(in_list, id(in_list))\n",
    "    cloned_list = in_list.copy()\n",
    "    print(cloned_list, id(cloned_list))\n",
    "\n",
    "cloneList()"
   ]
  },
  {
   "cell_type": "code",
   "execution_count": null,
   "id": "e460523a",
   "metadata": {},
   "outputs": [],
   "source": []
  }
 ],
 "metadata": {
  "kernelspec": {
   "display_name": "Python 3 (ipykernel)",
   "language": "python",
   "name": "python3"
  },
  "language_info": {
   "codemirror_mode": {
    "name": "ipython",
    "version": 3
   },
   "file_extension": ".py",
   "mimetype": "text/x-python",
   "name": "python",
   "nbconvert_exporter": "python",
   "pygments_lexer": "ipython3",
   "version": "3.9.12"
  }
 },
 "nbformat": 4,
 "nbformat_minor": 5
}
